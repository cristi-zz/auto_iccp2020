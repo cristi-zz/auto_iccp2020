{
 "cells": [
  {
   "cell_type": "markdown",
   "metadata": {},
   "source": [
    "## Sim1 experiments\n",
    "\n",
    "Take a very crude heating equation and create a dataset\n",
    "\n",
    "Let $a(t)$ be the inside temperature at time $t$, $e(t)$ outside temperature, and $c(t) \\in \\{0, 1\\}$ heating commands. A very crude heating equation is:\n",
    "A very crude heating equation is:\n",
    "$$\n",
    "\\begin{align*}\n",
    "a(t)=&a(t-1)+\\\\\n",
    "&\\alpha_e \\left( (k_e \\circ e) [t-T_e] - a(t-1) \\right) +\\\\\n",
    "&\\alpha_c (H_c - a(t-1))(k_c \\circ c)[t-T_c]  \n",
    "\\end{align*}\n",
    "$$\n",
    "The $\\circ$ is the convolution operator, $[]$ indexes into the array, $k_e$ and $k_c$ are two Gaussian kernels, $\\alpha_e$ and $\\alpha_c$ are scaling values and $T_e$, $T_c$ are some delays. Note that the heating agent is always at the same temperature $H_c$ and gradually heats up the air, with a delay $T_c$.\n",
    "\n",
    "That is, the current temperature is the previous temperature plus the contributions from outside and from heating. The heat goes from the hot to cold areas, faster if the differences are higher. For the heating element, the source temperature is fixed and when the heater is off ($c(t) == 0$ it does not represent a source of 0 degree temperature, but its contributions to the system are zero."
   ]
  },
  {
   "cell_type": "code",
   "execution_count": null,
   "metadata": {},
   "outputs": [],
   "source": [
    "# Uncomment next line to get interactive graphics\n",
    "%matplotlib widget   \n",
    "%load_ext autoreload\n",
    "%autoreload 2\n",
    "import matplotlib.pyplot as plt\n",
    "import numpy as np\n",
    "import pandas as pd\n",
    "from pathlib import Path\n",
    "from fastai2.vision.all import *\n",
    "import torch\n",
    "import network_definitions\n",
    "import seaborn as sns\n",
    "import sim1_datagen\n",
    "import dataprocessing"
   ]
  },
  {
   "cell_type": "markdown",
   "metadata": {},
   "source": [
    "## Let's generate some data and save it"
   ]
  },
  {
   "cell_type": "code",
   "execution_count": null,
   "metadata": {},
   "outputs": [],
   "source": [
    "Path(\"data\").mkdir(exist_ok=True)\n",
    "simulated_data_file = Path(\"data/sim1_data.csv\")\n",
    "if not simulated_data_file.exists():\n",
    "    np.random.seed(42)\n",
    "    N = 360 * sim1_datagen.ONE_DAY_MINUTES \n",
    "    F = 14\n",
    "    outside, commands, result = sim1_datagen.generate_heating_data(N)\n",
    "    features = sim1_datagen.generate_feature_block(outside, commands, result, F)\n",
    "    date_index = pd.date_range(start='2018-01-01 00:00', periods=N, freq='min')\n",
    "    sim1_df = pd.DataFrame(data=features, index=date_index, columns=[f\"C{k}\" for k in range(F)])\n",
    "    sim1_df.to_csv(simulated_data_file, index=True, index_label='index')\n",
    "else:\n",
    "    sim1_df = pd.read_csv(simulated_data_file, index_col=\"index\", parse_dates=True)\n",
    "OUT_ID = 8\n",
    "CMDS = 12\n",
    "INTERIOR = 13\n",
    "print(f\"The shape of feature set: {sim1_df.shape}\")\n",
    "sim1_df.head()"
   ]
  },
  {
   "cell_type": "code",
   "execution_count": null,
   "metadata": {},
   "outputs": [],
   "source": [
    "fig, ax = plt.subplots(3,1,figsize=(8, 4))\n",
    "some_index = np.arange(0, sim1_df.shape[0])\n",
    "ax[0].plot(some_index, sim1_df.iloc[:, OUT_ID])\n",
    "ax[0].set_title(\"Outside temperature\")\n",
    "ax[1].plot(some_index, sim1_df.iloc[:, CMDS])\n",
    "ax[1].set_title(\"Commands\")\n",
    "ax[2].plot(some_index, sim1_df.iloc[:, INTERIOR])\n",
    "ax[2].set_title(\"Interior temperature\")\n",
    "fig.tight_layout()\n",
    "fig.savefig(\"images/sim1_all_samples.png\")"
   ]
  },
  {
   "cell_type": "code",
   "execution_count": null,
   "metadata": {},
   "outputs": [],
   "source": [
    "past_length = 100\n",
    "future_length = 60\n",
    "batch_size = 8\n",
    "sample_size = past_length +future_length\n",
    "no_features = sim1_df.shape[1]\n",
    "\n",
    "samples = sim1_datagen.generate_samples(sim1_df, [(sim1_df.index[0], sim1_df.index[-1])], aggregate_interval_mins=3,\n",
    "                                        stride_step=0.1, sample_size=sample_size)\n",
    "sample_count = len(samples)\n",
    "ts = int(sample_count*0.9) # train/valid split\n",
    "train_set = samples[0:ts]\n",
    "valid_set = samples[ts:]\n",
    "print(f\"Train samples count: {len(train_set)}. Shape of a sample: {train_set[0].shape}, valid samples count: {len(valid_set)}\")\n",
    "\n",
    "itemizer = dataprocessing.HeatingItemiser(future_length)\n",
    "itemizerT = dataprocessing.HeatingItemiser(future_length, transformer=True)\n",
    "tls_train = TfmdLists(train_set, itemizer)\n",
    "tls_valid = TfmdLists(valid_set, itemizer)\n",
    "dloader = DataLoaders.from_dsets(tls_train, tls_valid, bs=batch_size).cuda()\n",
    "tls_trainT = TfmdLists(train_set, itemizerT)\n",
    "tls_validT = TfmdLists(valid_set, itemizerT)\n",
    "dloaderT = DataLoaders.from_dsets(tls_trainT, tls_validT, bs=batch_size).cuda()\n",
    "\n",
    "callbacks = [ReduceLROnPlateau(patience=5, factor=2),\n",
    "             EarlyStoppingCallback(patience=15),\n",
    "             SaveModelCallback(fname=\"best_model\")]"
   ]
  },
  {
   "cell_type": "code",
   "execution_count": null,
   "metadata": {},
   "outputs": [],
   "source": [
    "model_Linear= network_definitions.LinearModel(in_features=no_features, past_steps=past_length, future_steps=future_length).cuda()\n",
    "learner_Linear = Learner(dloader, model_Linear, loss_func=MSELossFlat())\n",
    "# print(learner_Linear.summary())\n",
    "# learner_Linear.lr_find()\n",
    "learner_Linear.fit_one_cycle(10, 5e-3, cbs=callbacks)\n",
    "fig = plt.figure(figsize=(4, 2))  # because jupyter widgets always changing semantics.\n",
    "learner_Linear.recorder.plot_loss()"
   ]
  },
  {
   "cell_type": "code",
   "execution_count": null,
   "metadata": {},
   "outputs": [],
   "source": [
    "model_Cnn= network_definitions.CnnFcn(in_features=no_features, past_steps=past_length, future_steps=future_length, cnn_stack_len=1,\n",
    "                                fcn_stack_len=1, cnn_filters=64, avg_pool_len=10, fcn_ratio=0.8).cuda()\n",
    "learner_Cnn = Learner(dloader, model_Cnn, loss_func=MSELossFlat())\n",
    "# print(learner_Cnn.summary())\n",
    "# learner_Cnn.lr_find()\n",
    "learner_Cnn.fit_one_cycle(10, 5e-4, cbs=callbacks)\n",
    "fig = plt.figure(figsize=(4, 2))\n",
    "learner_Cnn.recorder.plot_loss()"
   ]
  },
  {
   "cell_type": "code",
   "execution_count": null,
   "metadata": {},
   "outputs": [],
   "source": [
    "model_EncDec= network_definitions.EncoderDecoder(in_features=no_features, past_steps=past_length, future_steps=future_length, \n",
    "                                                hidden_size=128, num_layers=2).cuda()\n",
    "learner_EncDec = Learner(dloader, model_EncDec, loss_func=MSELossFlat())\n",
    "# print(learner_EncDec.summary())\n",
    "# learner_EncDec.lr_find()\n",
    "learner_EncDec.fit_one_cycle(10, 5e-3, cbs=callbacks)\n",
    "fig = plt.figure(figsize=(4, 2))\n",
    "learner_EncDec.recorder.plot_loss()"
   ]
  },
  {
   "cell_type": "code",
   "execution_count": null,
   "metadata": {},
   "outputs": [],
   "source": [
    "model_Att= network_definitions.AttentionModel(in_features=no_features, past_steps=past_length, future_steps=future_length, \n",
    "                                                hidden_size=128, num_layers=2).cuda()\n",
    "learner_Att = Learner(dloader, model_Att, loss_func=MSELossFlat())\n",
    "# print(learner_Att.summary())\n",
    "# learner_Att.lr_find()\n",
    "learner_Att.fit_one_cycle(5, 5e-4, cbs=callbacks)\n",
    "fig = plt.figure(figsize=(4, 2))\n",
    "learner_Att.recorder.plot_loss()"
   ]
  },
  {
   "cell_type": "code",
   "execution_count": null,
   "metadata": {},
   "outputs": [],
   "source": [
    "model_TransS= network_definitions.SimpleTransformer(in_features=no_features, past_steps=past_length, future_steps=future_length, \n",
    "                                                d_model=128, dim_feedforward=512).cuda()\n",
    "learner_TransS = Learner(dloader, model_TransS, loss_func=MSELossFlat())\n",
    "# print(learner_TransS.summary())\n",
    "# learner_TransS.lr_find()\n",
    "learner_TransS.fit_one_cycle(5, 1e-4, cbs=callbacks)\n",
    "fig = plt.figure(figsize=(4, 2))\n",
    "learner_TransS.recorder.plot_loss()"
   ]
  },
  {
   "cell_type": "code",
   "execution_count": null,
   "metadata": {},
   "outputs": [],
   "source": [
    "model_TransF= network_definitions.TransformerFull(in_features=no_features, past_steps=past_length, future_steps=future_length, \n",
    "                                                  target_features=2, d_model=128, dim_feedforward=512).cuda()\n",
    "learner_TransF = Learner(dloaderT, model_TransF, loss_func=MSELossFlat())\n",
    "# print(learner_TransF.summary())\n",
    "# learner_TransF.lr_find()\n",
    "learner_TransF.fit_one_cycle(5, 1e-4, cbs=callbacks)\n",
    "fig = plt.figure(figsize=(4, 2))\n",
    "learner_TransF.recorder.plot_loss()"
   ]
  },
  {
   "cell_type": "code",
   "execution_count": null,
   "metadata": {},
   "outputs": [],
   "source": [
    "## Let's view some results!"
   ]
  },
  {
   "cell_type": "code",
   "execution_count": null,
   "metadata": {},
   "outputs": [],
   "source": [
    "def get_lerner_prediction(learner, sample, label):\n",
    "    decoded_output, _, _ = learner.predict(sample, with_input=False)\n",
    "    return (decoded_output, label)\n",
    "\n",
    "item = valid_set[167]\n",
    "\n",
    "predictions =[\n",
    "    get_lerner_prediction(learner_Linear, item, \"Linear\"),\n",
    "    get_lerner_prediction(learner_Cnn, item, \"CnnFcn\"),\n",
    "    get_lerner_prediction(learner_EncDec, item, \"Encoder-Decoder\"),\n",
    "    get_lerner_prediction(learner_Att, item, \"Attention\"),\n",
    "    get_lerner_prediction(learner_TransS, item, \"TransS\"),\n",
    "    get_lerner_prediction(learner_TransF, item, \"TransF\"),\n",
    "]\n",
    "gt = item[-future_length:, INTERIOR]\n",
    "cmds = item[-future_length:, CMDS]\n",
    "# fig, ax = plt.subplots(2, 1, figsize=(5, 3))\n",
    "# ax[0].plot(item[0].T)\n",
    "# ax[0].set_title(\"x1 features\")\n",
    "# ax[1].plot(item[1])\n",
    "# ax[1].set_title(\"x2, knwon future\")\n",
    "# fig.tight_layout()\n",
    "fig, ax = plt.subplots(1, 1, figsize=(8, 4));ax=[ax]\n",
    "ax[0].plot(gt, 'r-.', label=\"GT\",)\n",
    "for preds in predictions:\n",
    "    ax[0].plot(preds[0], label=preds[1])\n",
    "ax[0].legend(loc='upper left')\n",
    "ax[0].set_title(\"Predictions for each model\")\n",
    "ax2 =  ax[0].twinx()\n",
    "ax2.plot(cmds, 'k')\n",
    "ax2.set_ylim([0, 4])\n",
    "fig.tight_layout()\n",
    "# fig.savefig(\"images/sim1_sample_training.png\")"
   ]
  },
  {
   "cell_type": "markdown",
   "metadata": {},
   "source": [
    "## Details on sim1 data generator\n",
    "\n",
    "We will look at a small sample to see how the temperatures affect the end result."
   ]
  },
  {
   "cell_type": "code",
   "execution_count": null,
   "metadata": {},
   "outputs": [],
   "source": [
    "N = 10 * sim1_datagen.ONE_DAY_MINUTES\n",
    "F = 14\n",
    "outside, commands, result = sim1_datagen.generate_heating_data(N, command_seed=323)\n",
    "# corectat cand heating e 0 sau 1 !!!!\n",
    "\n",
    "n = 3200\n",
    "l = 5000\n",
    "fig, ax = plt.subplots(3,1,figsize=(8, 4))\n",
    "ax[0].plot(outside[n:n+l])\n",
    "ax[0].set_title(\"Temperature outside\")\n",
    "ax[1].plot(commands[n:n+l])\n",
    "ax[1].set_title(\"Heating commands\")\n",
    "ax[2].plot(result[n:n+l])\n",
    "ax[2].set_title(\"Inside temperature\")\n",
    "fig.tight_layout()\n",
    "# fig.savefig(\"images/sim1_small_sample.png\")\n"
   ]
  }
 ],
 "metadata": {
  "kernelspec": {
   "display_name": "Python 3",
   "language": "python",
   "name": "python3"
  },
  "language_info": {
   "codemirror_mode": {
    "name": "ipython",
    "version": 3
   },
   "file_extension": ".py",
   "mimetype": "text/x-python",
   "name": "python",
   "nbconvert_exporter": "python",
   "pygments_lexer": "ipython3",
   "version": "3.7.6"
  }
 },
 "nbformat": 4,
 "nbformat_minor": 4
}
